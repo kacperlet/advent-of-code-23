{
 "cells": [
  {
   "cell_type": "code",
   "execution_count": 10,
   "metadata": {},
   "outputs": [
    {
     "name": "stdout",
     "output_type": "stream",
     "text": [
      "\n"
     ]
    }
   ],
   "source": [
    "chars = \"0123456789.\\n\"\n",
    "c = [i for i in chars]\n",
    "newC = \"\"\n",
    "\n",
    "with open('day3.txt', 'r') as file:\n",
    "    f = file.readlines()\n",
    "    for i in f:\n",
    "        for letter in i:\n",
    "            #print(letter)\n",
    "            if letter not in c:\n",
    "                c.append(letter)\n",
    "\n",
    "print(c)"
   ]
  }
 ],
 "metadata": {
  "kernelspec": {
   "display_name": "Python 3",
   "language": "python",
   "name": "python3"
  },
  "language_info": {
   "codemirror_mode": {
    "name": "ipython",
    "version": 3
   },
   "file_extension": ".py",
   "mimetype": "text/x-python",
   "name": "python",
   "nbconvert_exporter": "python",
   "pygments_lexer": "ipython3",
   "version": "3.10.12"
  }
 },
 "nbformat": 4,
 "nbformat_minor": 2
}
